{
  "nbformat": 4,
  "nbformat_minor": 0,
  "metadata": {
    "colab": {
      "name": "KNN.ipynb",
      "provenance": [],
      "collapsed_sections": []
    },
    "kernelspec": {
      "name": "python3",
      "display_name": "Python 3"
    }
  },
  "cells": [
    {
      "cell_type": "code",
      "metadata": {
        "id": "e9sq1g-JKzEZ",
        "colab": {
          "base_uri": "https://localhost:8080/",
          "height": 122
        },
        "outputId": "068f76d5-9d1f-458d-9b9f-461818b59ded"
      },
      "source": [
        "from google.colab import drive\n",
        "drive.mount(\"/content/drive\")"
      ],
      "execution_count": null,
      "outputs": [
        {
          "output_type": "stream",
          "text": [
            "Go to this URL in a browser: https://accounts.google.com/o/oauth2/auth?client_id=947318989803-6bn6qk8qdgf4n4g3pfee6491hc0brc4i.apps.googleusercontent.com&redirect_uri=urn%3aietf%3awg%3aoauth%3a2.0%3aoob&scope=email%20https%3a%2f%2fwww.googleapis.com%2fauth%2fdocs.test%20https%3a%2f%2fwww.googleapis.com%2fauth%2fdrive%20https%3a%2f%2fwww.googleapis.com%2fauth%2fdrive.photos.readonly%20https%3a%2f%2fwww.googleapis.com%2fauth%2fpeopleapi.readonly&response_type=code\n",
            "\n",
            "Enter your authorization code:\n",
            "··········\n",
            "Mounted at /content/drive\n"
          ],
          "name": "stdout"
        }
      ]
    },
    {
      "cell_type": "code",
      "metadata": {
        "id": "r05XOUWuLJ0-"
      },
      "source": [
        "import numpy as np\n",
        "import pandas as pd\n",
        "from sklearn.neighbors import KNeighborsClassifier\n",
        "from sklearn.model_selection import train_test_split"
      ],
      "execution_count": null,
      "outputs": []
    },
    {
      "cell_type": "code",
      "metadata": {
        "id": "Tl3f7WrpMYA5",
        "colab": {
          "base_uri": "https://localhost:8080/",
          "height": 255
        },
        "outputId": "a2920ecc-0953-4564-c323-84b991a604c7"
      },
      "source": [
        "file_path = '/content/drive/Shared drives/BE Project/BE_weather_dataset.csv'\n",
        "df = pd.read_csv(file_path)\n",
        "print(df)"
      ],
      "execution_count": null,
      "outputs": [
        {
          "output_type": "stream",
          "text": [
            "     Unnamed: 0 Unnamed: 1  ...            Unnamed: 9      Unnamed: 10\n",
            "0          YEAR         MO  ...  relative humidity(%)  flood occurence\n",
            "1          2005          6  ...                 83.71                0\n",
            "2          2005          6  ...                 83.29                0\n",
            "3          2005          6  ...                 84.98                0\n",
            "4          2005          6  ...                 86.51                0\n",
            "...         ...        ...  ...                   ...              ...\n",
            "5397       2020          3  ...                 55.88                0\n",
            "5398       2020          3  ...                  59.4                0\n",
            "5399       2020          3  ...                 61.81                0\n",
            "5400       2020          4  ...                  61.1                0\n",
            "5401       2020          4  ...                 58.42                0\n",
            "\n",
            "[5402 rows x 11 columns]\n"
          ],
          "name": "stdout"
        }
      ]
    },
    {
      "cell_type": "code",
      "metadata": {
        "id": "5-LZ9iL8dg2k",
        "colab": {
          "base_uri": "https://localhost:8080/",
          "height": 68
        },
        "outputId": "ccd2c830-1d5e-4891-e3d8-ffa4d19bdf2f"
      },
      "source": [
        "X = df.to_numpy()[1:,0:10]\n",
        "y = df.to_numpy()[1:,10]\n",
        "X_train, X_test, y_train, y_test = train_test_split(X, y, test_size=0.5, random_state=0)"
      ],
      "execution_count": null,
      "outputs": [
        {
          "output_type": "execute_result",
          "data": {
            "text/plain": [
              "KNeighborsClassifier(algorithm='auto', leaf_size=30, metric='minkowski',\n",
              "                     metric_params=None, n_jobs=None, n_neighbors=3, p=2,\n",
              "                     weights='uniform')"
            ]
          },
          "metadata": {
            "tags": []
          },
          "execution_count": 11
        }
      ]
    },
    {
      "cell_type": "code",
      "metadata": {
        "id": "wxcyUkC1ehwY",
        "colab": {
          "base_uri": "https://localhost:8080/",
          "height": 1000
        },
        "outputId": "4084c0f9-6eff-4095-f466-cfd1d1ec6b48"
      },
      "source": [
        "for i in range(1,101):\n",
        "  neigh = KNeighborsClassifier(n_neighbors=i)\n",
        "  neigh.fit(X_train, y_train)\n",
        "\n",
        "  y_pred = neigh.predict(X_test)\n",
        "  y_pred = y_pred.astype(int)\n",
        "  y_test = y_test.astype(int)\n",
        "\n",
        "  accuracy = (np.where(y_pred == y_test)[0].shape[0] * 100) / y_test.shape[0] \n",
        "\n",
        "  print('No of Neighbours', i, 'Accuracy', accuracy)"
      ],
      "execution_count": null,
      "outputs": [
        {
          "output_type": "stream",
          "text": [
            "No of Neighbours 1 Accuracy 99.40762680488707\n",
            "No of Neighbours 2 Accuracy 99.51869677897075\n",
            "No of Neighbours 3 Accuracy 99.55572010366531\n",
            "No of Neighbours 4 Accuracy 99.51869677897075\n",
            "No of Neighbours 5 Accuracy 99.51869677897075\n",
            "No of Neighbours 6 Accuracy 99.51869677897075\n",
            "No of Neighbours 7 Accuracy 99.51869677897075\n",
            "No of Neighbours 8 Accuracy 99.51869677897075\n",
            "No of Neighbours 9 Accuracy 99.51869677897075\n",
            "No of Neighbours 10 Accuracy 99.51869677897075\n",
            "No of Neighbours 11 Accuracy 99.51869677897075\n",
            "No of Neighbours 12 Accuracy 99.51869677897075\n",
            "No of Neighbours 13 Accuracy 99.51869677897075\n",
            "No of Neighbours 14 Accuracy 99.51869677897075\n",
            "No of Neighbours 15 Accuracy 99.51869677897075\n",
            "No of Neighbours 16 Accuracy 99.51869677897075\n",
            "No of Neighbours 17 Accuracy 99.51869677897075\n",
            "No of Neighbours 18 Accuracy 99.51869677897075\n",
            "No of Neighbours 19 Accuracy 99.51869677897075\n",
            "No of Neighbours 20 Accuracy 99.51869677897075\n",
            "No of Neighbours 21 Accuracy 99.51869677897075\n",
            "No of Neighbours 22 Accuracy 99.51869677897075\n",
            "No of Neighbours 23 Accuracy 99.51869677897075\n",
            "No of Neighbours 24 Accuracy 99.51869677897075\n",
            "No of Neighbours 25 Accuracy 99.51869677897075\n",
            "No of Neighbours 26 Accuracy 99.51869677897075\n",
            "No of Neighbours 27 Accuracy 99.51869677897075\n",
            "No of Neighbours 28 Accuracy 99.51869677897075\n",
            "No of Neighbours 29 Accuracy 99.51869677897075\n",
            "No of Neighbours 30 Accuracy 99.51869677897075\n",
            "No of Neighbours 31 Accuracy 99.51869677897075\n",
            "No of Neighbours 32 Accuracy 99.51869677897075\n",
            "No of Neighbours 33 Accuracy 99.51869677897075\n",
            "No of Neighbours 34 Accuracy 99.51869677897075\n",
            "No of Neighbours 35 Accuracy 99.51869677897075\n",
            "No of Neighbours 36 Accuracy 99.51869677897075\n",
            "No of Neighbours 37 Accuracy 99.51869677897075\n",
            "No of Neighbours 38 Accuracy 99.51869677897075\n",
            "No of Neighbours 39 Accuracy 99.51869677897075\n",
            "No of Neighbours 40 Accuracy 99.51869677897075\n",
            "No of Neighbours 41 Accuracy 99.51869677897075\n",
            "No of Neighbours 42 Accuracy 99.51869677897075\n",
            "No of Neighbours 43 Accuracy 99.51869677897075\n",
            "No of Neighbours 44 Accuracy 99.51869677897075\n",
            "No of Neighbours 45 Accuracy 99.51869677897075\n",
            "No of Neighbours 46 Accuracy 99.51869677897075\n",
            "No of Neighbours 47 Accuracy 99.51869677897075\n",
            "No of Neighbours 48 Accuracy 99.51869677897075\n",
            "No of Neighbours 49 Accuracy 99.51869677897075\n",
            "No of Neighbours 50 Accuracy 99.51869677897075\n",
            "No of Neighbours 51 Accuracy 99.51869677897075\n",
            "No of Neighbours 52 Accuracy 99.51869677897075\n",
            "No of Neighbours 53 Accuracy 99.51869677897075\n",
            "No of Neighbours 54 Accuracy 99.51869677897075\n",
            "No of Neighbours 55 Accuracy 99.51869677897075\n",
            "No of Neighbours 56 Accuracy 99.51869677897075\n",
            "No of Neighbours 57 Accuracy 99.51869677897075\n",
            "No of Neighbours 58 Accuracy 99.51869677897075\n",
            "No of Neighbours 59 Accuracy 99.51869677897075\n",
            "No of Neighbours 60 Accuracy 99.51869677897075\n",
            "No of Neighbours 61 Accuracy 99.51869677897075\n",
            "No of Neighbours 62 Accuracy 99.51869677897075\n",
            "No of Neighbours 63 Accuracy 99.51869677897075\n",
            "No of Neighbours 64 Accuracy 99.51869677897075\n",
            "No of Neighbours 65 Accuracy 99.51869677897075\n",
            "No of Neighbours 66 Accuracy 99.51869677897075\n",
            "No of Neighbours 67 Accuracy 99.51869677897075\n",
            "No of Neighbours 68 Accuracy 99.51869677897075\n",
            "No of Neighbours 69 Accuracy 99.51869677897075\n",
            "No of Neighbours 70 Accuracy 99.51869677897075\n",
            "No of Neighbours 71 Accuracy 99.51869677897075\n",
            "No of Neighbours 72 Accuracy 99.51869677897075\n",
            "No of Neighbours 73 Accuracy 99.51869677897075\n",
            "No of Neighbours 74 Accuracy 99.51869677897075\n",
            "No of Neighbours 75 Accuracy 99.51869677897075\n",
            "No of Neighbours 76 Accuracy 99.51869677897075\n",
            "No of Neighbours 77 Accuracy 99.51869677897075\n",
            "No of Neighbours 78 Accuracy 99.51869677897075\n",
            "No of Neighbours 79 Accuracy 99.51869677897075\n",
            "No of Neighbours 80 Accuracy 99.51869677897075\n",
            "No of Neighbours 81 Accuracy 99.51869677897075\n",
            "No of Neighbours 82 Accuracy 99.51869677897075\n",
            "No of Neighbours 83 Accuracy 99.51869677897075\n",
            "No of Neighbours 84 Accuracy 99.51869677897075\n",
            "No of Neighbours 85 Accuracy 99.51869677897075\n",
            "No of Neighbours 86 Accuracy 99.51869677897075\n",
            "No of Neighbours 87 Accuracy 99.51869677897075\n",
            "No of Neighbours 88 Accuracy 99.51869677897075\n",
            "No of Neighbours 89 Accuracy 99.51869677897075\n",
            "No of Neighbours 90 Accuracy 99.51869677897075\n",
            "No of Neighbours 91 Accuracy 99.51869677897075\n",
            "No of Neighbours 92 Accuracy 99.51869677897075\n",
            "No of Neighbours 93 Accuracy 99.51869677897075\n",
            "No of Neighbours 94 Accuracy 99.51869677897075\n",
            "No of Neighbours 95 Accuracy 99.51869677897075\n",
            "No of Neighbours 96 Accuracy 99.51869677897075\n",
            "No of Neighbours 97 Accuracy 99.51869677897075\n",
            "No of Neighbours 98 Accuracy 99.51869677897075\n",
            "No of Neighbours 99 Accuracy 99.51869677897075\n",
            "No of Neighbours 100 Accuracy 99.51869677897075\n"
          ],
          "name": "stdout"
        }
      ]
    }
  ]
}