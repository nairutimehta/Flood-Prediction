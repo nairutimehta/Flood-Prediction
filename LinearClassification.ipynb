{
  "nbformat": 4,
  "nbformat_minor": 0,
  "metadata": {
    "colab": {
      "name": "LinearClassification.ipynb",
      "provenance": [],
      "collapsed_sections": [],
      "authorship_tag": "ABX9TyNsVVyuOj/VXWFKzNMM8Gpc",
      "include_colab_link": true
    },
    "kernelspec": {
      "name": "python3",
      "display_name": "Python 3"
    }
  },
  "cells": [
    {
      "cell_type": "markdown",
      "metadata": {
        "id": "view-in-github",
        "colab_type": "text"
      },
      "source": [
        "<a href=\"https://colab.research.google.com/github/nairutimehta/Flood-Prediction/blob/main/LinearClassification.ipynb\" target=\"_parent\"><img src=\"https://colab.research.google.com/assets/colab-badge.svg\" alt=\"Open In Colab\"/></a>"
      ]
    },
    {
      "cell_type": "code",
      "metadata": {
        "id": "e9sq1g-JKzEZ",
        "colab": {
          "base_uri": "https://localhost:8080/",
          "height": 122
        },
        "outputId": "de468f11-4cc1-4533-9f12-f4e9628af80c"
      },
      "source": [
        "from google.colab import drive\n",
        "drive.mount(\"/content/drive\")"
      ],
      "execution_count": null,
      "outputs": [
        {
          "output_type": "stream",
          "text": [
            "Go to this URL in a browser: https://accounts.google.com/o/oauth2/auth?client_id=947318989803-6bn6qk8qdgf4n4g3pfee6491hc0brc4i.apps.googleusercontent.com&redirect_uri=urn%3aietf%3awg%3aoauth%3a2.0%3aoob&scope=email%20https%3a%2f%2fwww.googleapis.com%2fauth%2fdocs.test%20https%3a%2f%2fwww.googleapis.com%2fauth%2fdrive%20https%3a%2f%2fwww.googleapis.com%2fauth%2fdrive.photos.readonly%20https%3a%2f%2fwww.googleapis.com%2fauth%2fpeopleapi.readonly&response_type=code\n",
            "\n",
            "Enter your authorization code:\n",
            "··········\n",
            "Mounted at /content/drive\n"
          ],
          "name": "stdout"
        }
      ]
    },
    {
      "cell_type": "code",
      "metadata": {
        "id": "r05XOUWuLJ0-"
      },
      "source": [
        "import numpy as np\n",
        "import pandas as pd\n",
        "from sklearn.linear_model import LinearRegression\n",
        "from sklearn.model_selection import train_test_split"
      ],
      "execution_count": null,
      "outputs": []
    },
    {
      "cell_type": "code",
      "metadata": {
        "id": "Tl3f7WrpMYA5",
        "colab": {
          "base_uri": "https://localhost:8080/",
          "height": 255
        },
        "outputId": "7aad8be1-6da9-4d54-e68a-f8d6677ddaa0"
      },
      "source": [
        "file_path = '/content/drive/Shared drives/BE Project/BE_weather_dataset.csv'\n",
        "df = pd.read_csv(file_path)\n",
        "print(df)"
      ],
      "execution_count": null,
      "outputs": [
        {
          "output_type": "stream",
          "text": [
            "     Unnamed: 0 Unnamed: 1  ...            Unnamed: 9      Unnamed: 10\n",
            "0          YEAR         MO  ...  relative humidity(%)  flood occurence\n",
            "1          2005          6  ...                 83.71                0\n",
            "2          2005          6  ...                 83.29                0\n",
            "3          2005          6  ...                 84.98                0\n",
            "4          2005          6  ...                 86.51                0\n",
            "...         ...        ...  ...                   ...              ...\n",
            "5397       2020          3  ...                 55.88                0\n",
            "5398       2020          3  ...                  59.4                0\n",
            "5399       2020          3  ...                 61.81                0\n",
            "5400       2020          4  ...                  61.1                0\n",
            "5401       2020          4  ...                 58.42                0\n",
            "\n",
            "[5402 rows x 11 columns]\n"
          ],
          "name": "stdout"
        }
      ]
    },
    {
      "cell_type": "code",
      "metadata": {
        "id": "5-LZ9iL8dg2k"
      },
      "source": [
        "X = df.to_numpy()[1:,0:10]\n",
        "y = df.to_numpy()[1:,10]\n",
        "X_train, X_test, y_train, y_test = train_test_split(X, y, test_size=0.5, random_state=0)\n",
        "reg = reg = LinearRegression().fit(X_train, y_train)"
      ],
      "execution_count": null,
      "outputs": []
    },
    {
      "cell_type": "code",
      "metadata": {
        "id": "XLlNQ8Y3by-q"
      },
      "source": [
        "y_pred = reg.predict(X_test)"
      ],
      "execution_count": null,
      "outputs": []
    },
    {
      "cell_type": "code",
      "metadata": {
        "id": "wxcyUkC1ehwY",
        "colab": {
          "base_uri": "https://localhost:8080/",
          "height": 34
        },
        "outputId": "cb8af0b1-a2e1-498b-884f-dd5552feea07"
      },
      "source": [
        "y_pred = y_pred.astype(int)\n",
        "y_test = y_test.astype(int)\n",
        "\n",
        "accuracy = (np.where(y_pred == y_test)[0].shape[0] * 100) / y_test.shape[0] \n",
        "\n",
        "print(accuracy)"
      ],
      "execution_count": null,
      "outputs": [
        {
          "output_type": "stream",
          "text": [
            "99.51869677897075\n"
          ],
          "name": "stdout"
        }
      ]
    }
  ]
}